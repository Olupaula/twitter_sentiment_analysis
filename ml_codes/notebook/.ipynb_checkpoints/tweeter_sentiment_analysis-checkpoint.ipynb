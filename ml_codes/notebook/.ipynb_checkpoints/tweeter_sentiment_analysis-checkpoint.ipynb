{
 "cells": [
  {
   "cell_type": "markdown",
   "id": "9d72a999-8917-4ffc-9d41-78a7cdaf6836",
   "metadata": {},
   "source": [
    "# Twitter Sentiment Analysis\n",
    "In this work, a dataset from twitter, which contains the text (tweets) of twitter users, other features and the sentiment (a label which may be neutral, negative or positive). The aim of this work is to obtain the best model that can be used to predict the sentiment of any tweet."
   ]
  },
  {
   "cell_type": "markdown",
   "id": "5c9e8387-2ebd-4118-a353-79e077b9b271",
   "metadata": {},
   "source": [
    "## Import Dependencies"
   ]
  },
  {
   "cell_type": "code",
   "execution_count": 2,
   "id": "93d13753-625d-4901-9683-f637c1370c3a",
   "metadata": {},
   "outputs": [
    {
     "name": "stderr",
     "output_type": "stream",
     "text": [
      "2023-09-17 16:06:51.256123: I tensorflow/core/platform/cpu_feature_guard.cc:182] This TensorFlow binary is optimized to use available CPU instructions in performance-critical operations.\n",
      "To enable the following instructions: AVX2 FMA, in other operations, rebuild TensorFlow with the appropriate compiler flags.\n"
     ]
    }
   ],
   "source": [
    "import pandas as pd\n",
    "import numpy as np\n",
    "\n",
    "from sklearn.ensemble import RandomForestClassifier\n",
    "from sklearn.naive_bayes import MultinomialNB\n",
    "from sklearn.neighbors import KNeighborsClassifier\n",
    "from sklearn.tree import DecisionTreeClassifier\n",
    "\n",
    "from sklearn.preprocessing import LabelEncoder\n",
    "from sklearn.model_selection import cross_val_score, train_test_split, GridSearchCV\n",
    "from sklearn.feature_extraction.text import TfidfVectorizer\n",
    "\n",
    "from sklearn.metrics import confusion_matrix\n",
    "\n",
    "import keras\n",
    "from keras import Sequential\n",
    "from keras.layers import (\n",
    "    TextVectorization,\n",
    "    Dense,\n",
    "    GlobalAveragePooling1D,\n",
    "    Embedding,\n",
    "    LSTM,\n",
    "    Bidirectional\n",
    ")\n",
    "from keras.src.callbacks import EarlyStopping\n",
    "\n",
    "from nltk.stem.wordnet import WordNetLemmatizer\n",
    "from nltk.corpus import stopwords\n",
    "from nltk.stem import PorterStemmer\n",
    "\n",
    "import pickle\n",
    "\n",
    "import seaborn as sns\n",
    "import matplotlib.pyplot as plt"
   ]
  },
  {
   "cell_type": "markdown",
   "id": "6f50325e-ba04-4d7b-a8ba-f52b1e9b3821",
   "metadata": {},
   "source": [
    "## Reading the data"
   ]
  },
  {
   "cell_type": "code",
   "execution_count": 5,
   "id": "003ec6a6-db19-4009-a02e-2ee1598f545d",
   "metadata": {},
   "outputs": [],
   "source": [
    "data = pd.read_csv(\"../../datasets/tweets.csv\")"
   ]
  },
  {
   "cell_type": "markdown",
   "id": "2939a843-04c1-47c4-83cf-e2ff8f924f06",
   "metadata": {},
   "source": [
    "## Exploratory Data Analysis"
   ]
  },
  {
   "cell_type": "code",
   "execution_count": 6,
   "id": "8d97c1eb-9e9c-4e27-9bf7-8f7f89bfc46c",
   "metadata": {},
   "outputs": [
    {
     "data": {
      "text/html": [
       "<div>\n",
       "<style scoped>\n",
       "    .dataframe tbody tr th:only-of-type {\n",
       "        vertical-align: middle;\n",
       "    }\n",
       "\n",
       "    .dataframe tbody tr th {\n",
       "        vertical-align: top;\n",
       "    }\n",
       "\n",
       "    .dataframe thead th {\n",
       "        text-align: right;\n",
       "    }\n",
       "</style>\n",
       "<table border=\"1\" class=\"dataframe\">\n",
       "  <thead>\n",
       "    <tr style=\"text-align: right;\">\n",
       "      <th></th>\n",
       "      <th>textID</th>\n",
       "      <th>text</th>\n",
       "      <th>selected_text</th>\n",
       "      <th>sentiment</th>\n",
       "      <th>Time of Tweet</th>\n",
       "      <th>Age of User</th>\n",
       "      <th>Country</th>\n",
       "      <th>Population -2020</th>\n",
       "      <th>Land Area (Km�)</th>\n",
       "      <th>Density (P/Km�)</th>\n",
       "    </tr>\n",
       "  </thead>\n",
       "  <tbody>\n",
       "    <tr>\n",
       "      <th>0</th>\n",
       "      <td>cb774db0d1</td>\n",
       "      <td>I`d have responded, if I were going</td>\n",
       "      <td>I`d have responded, if I were going</td>\n",
       "      <td>neutral</td>\n",
       "      <td>morning</td>\n",
       "      <td>0-20</td>\n",
       "      <td>Afghanistan</td>\n",
       "      <td>38928346</td>\n",
       "      <td>652860.0</td>\n",
       "      <td>60</td>\n",
       "    </tr>\n",
       "    <tr>\n",
       "      <th>1</th>\n",
       "      <td>549e992a42</td>\n",
       "      <td>Sooo SAD I will miss you here in San Diego!!!</td>\n",
       "      <td>Sooo SAD</td>\n",
       "      <td>negative</td>\n",
       "      <td>noon</td>\n",
       "      <td>21-30</td>\n",
       "      <td>Albania</td>\n",
       "      <td>2877797</td>\n",
       "      <td>27400.0</td>\n",
       "      <td>105</td>\n",
       "    </tr>\n",
       "    <tr>\n",
       "      <th>2</th>\n",
       "      <td>088c60f138</td>\n",
       "      <td>my boss is bullying me...</td>\n",
       "      <td>bullying me</td>\n",
       "      <td>negative</td>\n",
       "      <td>night</td>\n",
       "      <td>31-45</td>\n",
       "      <td>Algeria</td>\n",
       "      <td>43851044</td>\n",
       "      <td>2381740.0</td>\n",
       "      <td>18</td>\n",
       "    </tr>\n",
       "    <tr>\n",
       "      <th>3</th>\n",
       "      <td>9642c003ef</td>\n",
       "      <td>what interview! leave me alone</td>\n",
       "      <td>leave me alone</td>\n",
       "      <td>negative</td>\n",
       "      <td>morning</td>\n",
       "      <td>46-60</td>\n",
       "      <td>Andorra</td>\n",
       "      <td>77265</td>\n",
       "      <td>470.0</td>\n",
       "      <td>164</td>\n",
       "    </tr>\n",
       "    <tr>\n",
       "      <th>4</th>\n",
       "      <td>358bd9e861</td>\n",
       "      <td>Sons of ****, why couldn`t they put them on t...</td>\n",
       "      <td>Sons of ****,</td>\n",
       "      <td>negative</td>\n",
       "      <td>noon</td>\n",
       "      <td>60-70</td>\n",
       "      <td>Angola</td>\n",
       "      <td>32866272</td>\n",
       "      <td>1246700.0</td>\n",
       "      <td>26</td>\n",
       "    </tr>\n",
       "  </tbody>\n",
       "</table>\n",
       "</div>"
      ],
      "text/plain": [
       "       textID                                               text  \\\n",
       "0  cb774db0d1                I`d have responded, if I were going   \n",
       "1  549e992a42      Sooo SAD I will miss you here in San Diego!!!   \n",
       "2  088c60f138                          my boss is bullying me...   \n",
       "3  9642c003ef                     what interview! leave me alone   \n",
       "4  358bd9e861   Sons of ****, why couldn`t they put them on t...   \n",
       "\n",
       "                         selected_text sentiment Time of Tweet Age of User  \\\n",
       "0  I`d have responded, if I were going   neutral       morning        0-20   \n",
       "1                             Sooo SAD  negative          noon       21-30   \n",
       "2                          bullying me  negative         night       31-45   \n",
       "3                       leave me alone  negative       morning       46-60   \n",
       "4                        Sons of ****,  negative          noon       60-70   \n",
       "\n",
       "       Country  Population -2020  Land Area (Km�)  Density (P/Km�)  \n",
       "0  Afghanistan          38928346         652860.0               60  \n",
       "1      Albania           2877797          27400.0              105  \n",
       "2      Algeria          43851044        2381740.0               18  \n",
       "3      Andorra             77265            470.0              164  \n",
       "4       Angola          32866272        1246700.0               26  "
      ]
     },
     "execution_count": 6,
     "metadata": {},
     "output_type": "execute_result"
    }
   ],
   "source": [
    "data.head()"
   ]
  },
  {
   "cell_type": "code",
   "execution_count": 7,
   "id": "a0af50b7-1c8e-42e7-86b6-9dbba41779ab",
   "metadata": {},
   "outputs": [
    {
     "data": {
      "text/plain": [
       "textID               object\n",
       "text                 object\n",
       "selected_text        object\n",
       "sentiment            object\n",
       "Time of Tweet        object\n",
       "Age of User          object\n",
       "Country              object\n",
       "Population -2020      int64\n",
       "Land Area (Km�)     float64\n",
       "Density (P/Km�)       int64\n",
       "dtype: object"
      ]
     },
     "execution_count": 7,
     "metadata": {},
     "output_type": "execute_result"
    }
   ],
   "source": [
    "data.dtypes"
   ]
  },
  {
   "cell_type": "markdown",
   "id": "1f4249e5-4a31-4e65-bab4-d26fade2d6a7",
   "metadata": {},
   "source": [
    "## Selecting The Required Columns\n",
    "The columns of interest in this work are the tweets (text) and the sentiment assigned to them."
   ]
  },
  {
   "cell_type": "code",
   "execution_count": 8,
   "id": "81974b9e-556b-4550-bed6-1b43a87bf67a",
   "metadata": {},
   "outputs": [
    {
     "data": {
      "text/html": [
       "<div>\n",
       "<style scoped>\n",
       "    .dataframe tbody tr th:only-of-type {\n",
       "        vertical-align: middle;\n",
       "    }\n",
       "\n",
       "    .dataframe tbody tr th {\n",
       "        vertical-align: top;\n",
       "    }\n",
       "\n",
       "    .dataframe thead th {\n",
       "        text-align: right;\n",
       "    }\n",
       "</style>\n",
       "<table border=\"1\" class=\"dataframe\">\n",
       "  <thead>\n",
       "    <tr style=\"text-align: right;\">\n",
       "      <th></th>\n",
       "      <th>text</th>\n",
       "      <th>sentiment</th>\n",
       "    </tr>\n",
       "  </thead>\n",
       "  <tbody>\n",
       "    <tr>\n",
       "      <th>0</th>\n",
       "      <td>I`d have responded, if I were going</td>\n",
       "      <td>neutral</td>\n",
       "    </tr>\n",
       "    <tr>\n",
       "      <th>1</th>\n",
       "      <td>Sooo SAD I will miss you here in San Diego!!!</td>\n",
       "      <td>negative</td>\n",
       "    </tr>\n",
       "    <tr>\n",
       "      <th>2</th>\n",
       "      <td>my boss is bullying me...</td>\n",
       "      <td>negative</td>\n",
       "    </tr>\n",
       "    <tr>\n",
       "      <th>3</th>\n",
       "      <td>what interview! leave me alone</td>\n",
       "      <td>negative</td>\n",
       "    </tr>\n",
       "    <tr>\n",
       "      <th>4</th>\n",
       "      <td>Sons of ****, why couldn`t they put them on t...</td>\n",
       "      <td>negative</td>\n",
       "    </tr>\n",
       "  </tbody>\n",
       "</table>\n",
       "</div>"
      ],
      "text/plain": [
       "                                                text sentiment\n",
       "0                I`d have responded, if I were going   neutral\n",
       "1      Sooo SAD I will miss you here in San Diego!!!  negative\n",
       "2                          my boss is bullying me...  negative\n",
       "3                     what interview! leave me alone  negative\n",
       "4   Sons of ****, why couldn`t they put them on t...  negative"
      ]
     },
     "execution_count": 8,
     "metadata": {},
     "output_type": "execute_result"
    }
   ],
   "source": [
    "data = data[['text', 'sentiment']]\n",
    "data.head()"
   ]
  },
  {
   "cell_type": "markdown",
   "id": "7af659be-c6fc-482e-8b8c-0b5c9591359f",
   "metadata": {},
   "source": [
    "## Creating a coded sentiment\n",
    "Here, the sentiments, viz., negative, neutral and positive are represented by 0, 1 and 2."
   ]
  },
  {
   "cell_type": "markdown",
   "id": "b3a156ca-6901-4f3a-940c-43a751437444",
   "metadata": {},
   "source": [
    "## Checking for Any Missing Data or Empty String"
   ]
  },
  {
   "cell_type": "code",
   "execution_count": 9,
   "id": "0c24eca4-11ea-49b4-832c-36799c24cf1e",
   "metadata": {},
   "outputs": [],
   "source": [
    "def remove_empty_text(data_):\n",
    "    for column in data_.columns:\n",
    "        for row in data_.index:\n",
    "            if data_.loc[row, column] == \"\":\n",
    "                data_.drop(label=row, axis=0)\n",
    "    return data_\n"
   ]
  },
  {
   "cell_type": "code",
   "execution_count": 231,
   "id": "21449c8b-5efe-43bf-be49-b118f402976f",
   "metadata": {},
   "outputs": [
    {
     "data": {
      "text/html": [
       "<div>\n",
       "<style scoped>\n",
       "    .dataframe tbody tr th:only-of-type {\n",
       "        vertical-align: middle;\n",
       "    }\n",
       "\n",
       "    .dataframe tbody tr th {\n",
       "        vertical-align: top;\n",
       "    }\n",
       "\n",
       "    .dataframe thead th {\n",
       "        text-align: right;\n",
       "    }\n",
       "</style>\n",
       "<table border=\"1\" class=\"dataframe\">\n",
       "  <thead>\n",
       "    <tr style=\"text-align: right;\">\n",
       "      <th></th>\n",
       "      <th>text</th>\n",
       "      <th>sentiment</th>\n",
       "    </tr>\n",
       "  </thead>\n",
       "  <tbody>\n",
       "    <tr>\n",
       "      <th>0</th>\n",
       "      <td>I`d have responded, if I were going</td>\n",
       "      <td>neutral</td>\n",
       "    </tr>\n",
       "    <tr>\n",
       "      <th>1</th>\n",
       "      <td>Sooo SAD I will miss you here in San Diego!!!</td>\n",
       "      <td>negative</td>\n",
       "    </tr>\n",
       "    <tr>\n",
       "      <th>2</th>\n",
       "      <td>my boss is bullying me...</td>\n",
       "      <td>negative</td>\n",
       "    </tr>\n",
       "    <tr>\n",
       "      <th>3</th>\n",
       "      <td>what interview! leave me alone</td>\n",
       "      <td>negative</td>\n",
       "    </tr>\n",
       "    <tr>\n",
       "      <th>4</th>\n",
       "      <td>Sons of ****, why couldn`t they put them on t...</td>\n",
       "      <td>negative</td>\n",
       "    </tr>\n",
       "    <tr>\n",
       "      <th>...</th>\n",
       "      <td>...</td>\n",
       "      <td>...</td>\n",
       "    </tr>\n",
       "    <tr>\n",
       "      <th>27476</th>\n",
       "      <td>wish we could come see u on Denver  husband l...</td>\n",
       "      <td>negative</td>\n",
       "    </tr>\n",
       "    <tr>\n",
       "      <th>27477</th>\n",
       "      <td>I`ve wondered about rake to.  The client has ...</td>\n",
       "      <td>negative</td>\n",
       "    </tr>\n",
       "    <tr>\n",
       "      <th>27478</th>\n",
       "      <td>Yay good for both of you. Enjoy the break - y...</td>\n",
       "      <td>positive</td>\n",
       "    </tr>\n",
       "    <tr>\n",
       "      <th>27479</th>\n",
       "      <td>But it was worth it  ****.</td>\n",
       "      <td>positive</td>\n",
       "    </tr>\n",
       "    <tr>\n",
       "      <th>27480</th>\n",
       "      <td>All this flirting going on - The ATG smiles...</td>\n",
       "      <td>neutral</td>\n",
       "    </tr>\n",
       "  </tbody>\n",
       "</table>\n",
       "<p>27481 rows × 2 columns</p>\n",
       "</div>"
      ],
      "text/plain": [
       "                                                    text sentiment\n",
       "0                    I`d have responded, if I were going   neutral\n",
       "1          Sooo SAD I will miss you here in San Diego!!!  negative\n",
       "2                              my boss is bullying me...  negative\n",
       "3                         what interview! leave me alone  negative\n",
       "4       Sons of ****, why couldn`t they put them on t...  negative\n",
       "...                                                  ...       ...\n",
       "27476   wish we could come see u on Denver  husband l...  negative\n",
       "27477   I`ve wondered about rake to.  The client has ...  negative\n",
       "27478   Yay good for both of you. Enjoy the break - y...  positive\n",
       "27479                         But it was worth it  ****.  positive\n",
       "27480     All this flirting going on - The ATG smiles...   neutral\n",
       "\n",
       "[27481 rows x 2 columns]"
      ]
     },
     "execution_count": 231,
     "metadata": {},
     "output_type": "execute_result"
    }
   ],
   "source": [
    "missing_data = remove_empty_text(data)\n",
    "missing_data"
   ]
  },
  {
   "cell_type": "code",
   "execution_count": 15,
   "id": "7187932b-060b-4d6f-8b99-8c9d52347270",
   "metadata": {},
   "outputs": [
    {
     "data": {
      "text/plain": [
       "0        1\n",
       "1        0\n",
       "2        0\n",
       "3        0\n",
       "4        0\n",
       "        ..\n",
       "27476    0\n",
       "27477    0\n",
       "27478    2\n",
       "27479    2\n",
       "27480    1\n",
       "Name: coded_sentiment, Length: 27481, dtype: int64"
      ]
     },
     "execution_count": 15,
     "metadata": {},
     "output_type": "execute_result"
    }
   ],
   "source": [
    "encoder = LabelEncoder()\n",
    "# Here, 0 is negative, 1 is neutral and 2 is positive\n",
    "\n",
    "# data['coded_sentiment'] = encoder.fit_transform(data.sentiment)\n",
    "# data['coded_sentiment']\n",
    "data['coded_sentiment'] = data['sentiment'].apply(\n",
    "        lambda x: \n",
    "        0 if x == 'negative'\n",
    "        else 1 if x == 'neutral'\n",
    "        else 2\n",
    ")\n",
    "\n",
    "data['coded_sentiment']"
   ]
  },
  {
   "cell_type": "markdown",
   "id": "4fd78ea5-0358-41ae-b967-2af948da667e",
   "metadata": {},
   "source": [
    "## Grouping the Sentiments\n",
    "Grouping the sentiments in other to find the number of words under each category."
   ]
  },
  {
   "cell_type": "code",
   "execution_count": 16,
   "id": "7c359e8b-5251-4e11-8cf1-f31ec65b2739",
   "metadata": {},
   "outputs": [
    {
     "name": "stdout",
     "output_type": "stream",
     "text": [
      "sentiment\n",
      "negative     7781\n",
      "neutral     11117\n",
      "positive     8582\n",
      "Name: text, dtype: int64\n"
     ]
    },
    {
     "data": {
      "image/png": "[encoded data removed]",
      "text/plain": [
       "<Figure size 640x480 with 1 Axes>"
      ]
     },
     "metadata": {},
     "output_type": "display_data"
    }
   ],
   "source": [
    "groups = data.groupby('sentiment').text.count()\n",
    "print(groups)\n",
    "groups.plot.bar(ylim=0)\n",
    "plt.show()"
   ]
  },
  {
   "cell_type": "markdown",
   "id": "453f0327-678d-4011-a190-6b59984f6747",
   "metadata": {},
   "source": [
    "## Making the Classes Equiprobable"
   ]
  },
  {
   "cell_type": "code",
   "execution_count": 18,
   "id": "32204e57-0834-4e78-abad-ab86315acd0e",
   "metadata": {},
   "outputs": [
    {
     "name": "stdout",
     "output_type": "stream",
     "text": [
      "the minimum class size is = 7781\n"
     ]
    }
   ],
   "source": [
    "min = groups.min()\n",
    "random_state = 123\n",
    "print('the minimum class size is =', min)\n",
    "\n",
    "data_negative = data[data['sentiment'] == 'negative'].sample(min, random_state=random_state)\n",
    "data_neutral = data[data['sentiment'] == 'neutral'].sample(min, random_state=random_state)\n",
    "data_positive = data[data['sentiment'] == 'positive'].sample(min, random_state=random_state)"
   ]
  },
  {
   "cell_type": "code",
   "execution_count": 19,
   "id": "35cca013-ec91-4a5f-87a7-d065bd9935ea",
   "metadata": {},
   "outputs": [
    {
     "data": {
      "text/html": [
       "<div>\n",
       "<style scoped>\n",
       "    .dataframe tbody tr th:only-of-type {\n",
       "        vertical-align: middle;\n",
       "    }\n",
       "\n",
       "    .dataframe tbody tr th {\n",
       "        vertical-align: top;\n",
       "    }\n",
       "\n",
       "    .dataframe thead th {\n",
       "        text-align: right;\n",
       "    }\n",
       "</style>\n",
       "<table border=\"1\" class=\"dataframe\">\n",
       "  <thead>\n",
       "    <tr style=\"text-align: right;\">\n",
       "      <th></th>\n",
       "      <th>text</th>\n",
       "      <th>sentiment</th>\n",
       "      <th>coded_sentiment</th>\n",
       "    </tr>\n",
       "  </thead>\n",
       "  <tbody>\n",
       "    <tr>\n",
       "      <th>15351</th>\n",
       "      <td>' ...not academically of course. ' I miss him ...</td>\n",
       "      <td>negative</td>\n",
       "      <td>0</td>\n",
       "    </tr>\n",
       "    <tr>\n",
       "      <th>25133</th>\n",
       "      <td>come back to Perth     I missed the show here!</td>\n",
       "      <td>negative</td>\n",
       "      <td>0</td>\n",
       "    </tr>\n",
       "    <tr>\n",
       "      <th>16324</th>\n",
       "      <td>it would hurt only when you touch it or when ...</td>\n",
       "      <td>negative</td>\n",
       "      <td>0</td>\n",
       "    </tr>\n",
       "    <tr>\n",
       "      <th>20751</th>\n",
       "      <td>Just dusted &amp; vacuumed apartment.  I think I n...</td>\n",
       "      <td>negative</td>\n",
       "      <td>0</td>\n",
       "    </tr>\n",
       "    <tr>\n",
       "      <th>25771</th>\n",
       "      <td>Just found out my parents are putting down my ...</td>\n",
       "      <td>negative</td>\n",
       "      <td>0</td>\n",
       "    </tr>\n",
       "    <tr>\n",
       "      <th>...</th>\n",
       "      <td>...</td>\n",
       "      <td>...</td>\n",
       "      <td>...</td>\n",
       "    </tr>\n",
       "    <tr>\n",
       "      <th>14485</th>\n",
       "      <td>you didn`t come to see the hosts at hilton mr...</td>\n",
       "      <td>negative</td>\n",
       "      <td>0</td>\n",
       "    </tr>\n",
       "    <tr>\n",
       "      <th>4877</th>\n",
       "      <td>I`m always a little sad to see followers I rea...</td>\n",
       "      <td>negative</td>\n",
       "      <td>0</td>\n",
       "    </tr>\n",
       "    <tr>\n",
       "      <th>12229</th>\n",
       "      <td>daaammmnnnnn I do wish I was there.</td>\n",
       "      <td>negative</td>\n",
       "      <td>0</td>\n",
       "    </tr>\n",
       "    <tr>\n",
       "      <th>26565</th>\n",
       "      <td>being sunburnt is horrible</td>\n",
       "      <td>negative</td>\n",
       "      <td>0</td>\n",
       "    </tr>\n",
       "    <tr>\n",
       "      <th>12729</th>\n",
       "      <td>http://twitpic.com/66wxk - SO jealous right n...</td>\n",
       "      <td>negative</td>\n",
       "      <td>0</td>\n",
       "    </tr>\n",
       "  </tbody>\n",
       "</table>\n",
       "<p>7781 rows × 3 columns</p>\n",
       "</div>"
      ],
      "text/plain": [
       "                                                    text sentiment  \\\n",
       "15351  ' ...not academically of course. ' I miss him ...  negative   \n",
       "25133     come back to Perth     I missed the show here!  negative   \n",
       "16324   it would hurt only when you touch it or when ...  negative   \n",
       "20751  Just dusted & vacuumed apartment.  I think I n...  negative   \n",
       "25771  Just found out my parents are putting down my ...  negative   \n",
       "...                                                  ...       ...   \n",
       "14485   you didn`t come to see the hosts at hilton mr...  negative   \n",
       "4877   I`m always a little sad to see followers I rea...  negative   \n",
       "12229                daaammmnnnnn I do wish I was there.  negative   \n",
       "26565                         being sunburnt is horrible  negative   \n",
       "12729   http://twitpic.com/66wxk - SO jealous right n...  negative   \n",
       "\n",
       "       coded_sentiment  \n",
       "15351                0  \n",
       "25133                0  \n",
       "16324                0  \n",
       "20751                0  \n",
       "25771                0  \n",
       "...                ...  \n",
       "14485                0  \n",
       "4877                 0  \n",
       "12229                0  \n",
       "26565                0  \n",
       "12729                0  \n",
       "\n",
       "[7781 rows x 3 columns]"
      ]
     },
     "execution_count": 19,
     "metadata": {},
     "output_type": "execute_result"
    }
   ],
   "source": [
    "# Data points with negative sentiments only\n",
    "data_negative"
   ]
  },
  {
   "cell_type": "code",
   "execution_count": 20,
   "id": "e70bf8db-6ec0-4746-a18f-1df42755778b",
   "metadata": {},
   "outputs": [
    {
     "data": {
      "text/html": [
       "<div>\n",
       "<style scoped>\n",
       "    .dataframe tbody tr th:only-of-type {\n",
       "        vertical-align: middle;\n",
       "    }\n",
       "\n",
       "    .dataframe tbody tr th {\n",
       "        vertical-align: top;\n",
       "    }\n",
       "\n",
       "    .dataframe thead th {\n",
       "        text-align: right;\n",
       "    }\n",
       "</style>\n",
       "<table border=\"1\" class=\"dataframe\">\n",
       "  <thead>\n",
       "    <tr style=\"text-align: right;\">\n",
       "      <th></th>\n",
       "      <th>text</th>\n",
       "      <th>sentiment</th>\n",
       "      <th>coded_sentiment</th>\n",
       "    </tr>\n",
       "  </thead>\n",
       "  <tbody>\n",
       "    <tr>\n",
       "      <th>26511</th>\n",
       "      <td>Just chillin at home</td>\n",
       "      <td>positive</td>\n",
       "      <td>2</td>\n",
       "    </tr>\n",
       "    <tr>\n",
       "      <th>6868</th>\n",
       "      <td>Been meaning to email you for months. Your pr...</td>\n",
       "      <td>positive</td>\n",
       "      <td>2</td>\n",
       "    </tr>\n",
       "    <tr>\n",
       "      <th>15754</th>\n",
       "      <td>_04071991 haaa awesome! i remember my brother ...</td>\n",
       "      <td>positive</td>\n",
       "      <td>2</td>\n",
       "    </tr>\n",
       "    <tr>\n",
       "      <th>14899</th>\n",
       "      <td>Hi Serena just want to say good luck in Madri...</td>\n",
       "      <td>positive</td>\n",
       "      <td>2</td>\n",
       "    </tr>\n",
       "    <tr>\n",
       "      <th>27068</th>\n",
       "      <td>No, i dont think its bad. And its very well e...</td>\n",
       "      <td>positive</td>\n",
       "      <td>2</td>\n",
       "    </tr>\n",
       "    <tr>\n",
       "      <th>...</th>\n",
       "      <td>...</td>\n",
       "      <td>...</td>\n",
       "      <td>...</td>\n",
       "    </tr>\n",
       "    <tr>\n",
       "      <th>7490</th>\n",
       "      <td>shouldn`t have stayed up til almost 2 reading ...</td>\n",
       "      <td>positive</td>\n",
       "      <td>2</td>\n",
       "    </tr>\n",
       "    <tr>\n",
       "      <th>8990</th>\n",
       "      <td>I just arrived in the office.. I am preparing ...</td>\n",
       "      <td>positive</td>\n",
       "      <td>2</td>\n",
       "    </tr>\n",
       "    <tr>\n",
       "      <th>13721</th>\n",
       "      <td>R-T  30 Cool Things For Successful Entrepreneu...</td>\n",
       "      <td>positive</td>\n",
       "      <td>2</td>\n",
       "    </tr>\n",
       "    <tr>\n",
       "      <th>5582</th>\n",
       "      <td>Alternate name for a 'Bacon Mary'... A 'Blood...</td>\n",
       "      <td>positive</td>\n",
       "      <td>2</td>\n",
       "    </tr>\n",
       "    <tr>\n",
       "      <th>19957</th>\n",
       "      <td>Nothing wrong with that samantha</td>\n",
       "      <td>positive</td>\n",
       "      <td>2</td>\n",
       "    </tr>\n",
       "  </tbody>\n",
       "</table>\n",
       "<p>7781 rows × 3 columns</p>\n",
       "</div>"
      ],
      "text/plain": [
       "                                                    text sentiment  \\\n",
       "26511                               Just chillin at home  positive   \n",
       "6868    Been meaning to email you for months. Your pr...  positive   \n",
       "15754  _04071991 haaa awesome! i remember my brother ...  positive   \n",
       "14899   Hi Serena just want to say good luck in Madri...  positive   \n",
       "27068   No, i dont think its bad. And its very well e...  positive   \n",
       "...                                                  ...       ...   \n",
       "7490   shouldn`t have stayed up til almost 2 reading ...  positive   \n",
       "8990   I just arrived in the office.. I am preparing ...  positive   \n",
       "13721  R-T  30 Cool Things For Successful Entrepreneu...  positive   \n",
       "5582    Alternate name for a 'Bacon Mary'... A 'Blood...  positive   \n",
       "19957                   Nothing wrong with that samantha  positive   \n",
       "\n",
       "       coded_sentiment  \n",
       "26511                2  \n",
       "6868                 2  \n",
       "15754                2  \n",
       "14899                2  \n",
       "27068                2  \n",
       "...                ...  \n",
       "7490                 2  \n",
       "8990                 2  \n",
       "13721                2  \n",
       "5582                 2  \n",
       "19957                2  \n",
       "\n",
       "[7781 rows x 3 columns]"
      ]
     },
     "execution_count": 20,
     "metadata": {},
     "output_type": "execute_result"
    }
   ],
   "source": [
    "# Data points with postive sentiments only\n",
    "data_positive"
   ]
  },
  {
   "cell_type": "code",
   "execution_count": 21,
   "id": "02930175-6ddf-469d-a50e-8ead59c67e9e",
   "metadata": {},
   "outputs": [
    {
     "data": {
      "text/html": [
       "<div>\n",
       "<style scoped>\n",
       "    .dataframe tbody tr th:only-of-type {\n",
       "        vertical-align: middle;\n",
       "    }\n",
       "\n",
       "    .dataframe tbody tr th {\n",
       "        vertical-align: top;\n",
       "    }\n",
       "\n",
       "    .dataframe thead th {\n",
       "        text-align: right;\n",
       "    }\n",
       "</style>\n",
       "<table border=\"1\" class=\"dataframe\">\n",
       "  <thead>\n",
       "    <tr style=\"text-align: right;\">\n",
       "      <th></th>\n",
       "      <th>text</th>\n",
       "      <th>sentiment</th>\n",
       "      <th>coded_sentiment</th>\n",
       "    </tr>\n",
       "  </thead>\n",
       "  <tbody>\n",
       "    <tr>\n",
       "      <th>18506</th>\n",
       "      <td>_Devil1 Big Brother quiz?  What?!  I`m too bus...</td>\n",
       "      <td>neutral</td>\n",
       "      <td>1</td>\n",
       "    </tr>\n",
       "    <tr>\n",
       "      <th>24</th>\n",
       "      <td>SEe waT I Mean bOuT FoLL0w fRiiDaYs... It`S cA...</td>\n",
       "      <td>neutral</td>\n",
       "      <td>1</td>\n",
       "    </tr>\n",
       "    <tr>\n",
       "      <th>1656</th>\n",
       "      <td>Hence the smiley face.  ha ha ha ha. Lol yeah ...</td>\n",
       "      <td>neutral</td>\n",
       "      <td>1</td>\n",
       "    </tr>\n",
       "    <tr>\n",
       "      <th>2258</th>\n",
       "      <td>found out that no one he knows is using Twitter.</td>\n",
       "      <td>neutral</td>\n",
       "      <td>1</td>\n",
       "    </tr>\n",
       "    <tr>\n",
       "      <th>4865</th>\n",
       "      <td>I will try. But I don`t care what my mum says</td>\n",
       "      <td>neutral</td>\n",
       "      <td>1</td>\n",
       "    </tr>\n",
       "    <tr>\n",
       "      <th>...</th>\n",
       "      <td>...</td>\n",
       "      <td>...</td>\n",
       "      <td>...</td>\n",
       "    </tr>\n",
       "    <tr>\n",
       "      <th>3673</th>\n",
       "      <td>morning to you too joe</td>\n",
       "      <td>neutral</td>\n",
       "      <td>1</td>\n",
       "    </tr>\n",
       "    <tr>\n",
       "      <th>26405</th>\n",
       "      <td>Craziier are off of msn!</td>\n",
       "      <td>neutral</td>\n",
       "      <td>1</td>\n",
       "    </tr>\n",
       "    <tr>\n",
       "      <th>22407</th>\n",
       "      <td>White wine reminds me of vinegar</td>\n",
       "      <td>neutral</td>\n",
       "      <td>1</td>\n",
       "    </tr>\n",
       "    <tr>\n",
       "      <th>1226</th>\n",
       "      <td>Oh yes..i think almost every Tuesday in June....</td>\n",
       "      <td>neutral</td>\n",
       "      <td>1</td>\n",
       "    </tr>\n",
       "    <tr>\n",
       "      <th>14245</th>\n",
       "      <td>i really needa find more stastics</td>\n",
       "      <td>neutral</td>\n",
       "      <td>1</td>\n",
       "    </tr>\n",
       "  </tbody>\n",
       "</table>\n",
       "<p>7781 rows × 3 columns</p>\n",
       "</div>"
      ],
      "text/plain": [
       "                                                    text sentiment  \\\n",
       "18506  _Devil1 Big Brother quiz?  What?!  I`m too bus...   neutral   \n",
       "24     SEe waT I Mean bOuT FoLL0w fRiiDaYs... It`S cA...   neutral   \n",
       "1656   Hence the smiley face.  ha ha ha ha. Lol yeah ...   neutral   \n",
       "2258    found out that no one he knows is using Twitter.   neutral   \n",
       "4865       I will try. But I don`t care what my mum says   neutral   \n",
       "...                                                  ...       ...   \n",
       "3673                              morning to you too joe   neutral   \n",
       "26405                           Craziier are off of msn!   neutral   \n",
       "22407                   White wine reminds me of vinegar   neutral   \n",
       "1226    Oh yes..i think almost every Tuesday in June....   neutral   \n",
       "14245                  i really needa find more stastics   neutral   \n",
       "\n",
       "       coded_sentiment  \n",
       "18506                1  \n",
       "24                   1  \n",
       "1656                 1  \n",
       "2258                 1  \n",
       "4865                 1  \n",
       "...                ...  \n",
       "3673                 1  \n",
       "26405                1  \n",
       "22407                1  \n",
       "1226                 1  \n",
       "14245                1  \n",
       "\n",
       "[7781 rows x 3 columns]"
      ]
     },
     "execution_count": 21,
     "metadata": {},
     "output_type": "execute_result"
    }
   ],
   "source": [
    "# Data points with neutral sentiments only\n",
    "data_neutral"
   ]
  },
  {
   "cell_type": "code",
   "execution_count": 23,
   "id": "9edd55f6-97f2-4064-9b35-0b4f291228eb",
   "metadata": {},
   "outputs": [
    {
     "data": {
      "text/html": [
       "<div>\n",
       "<style scoped>\n",
       "    .dataframe tbody tr th:only-of-type {\n",
       "        vertical-align: middle;\n",
       "    }\n",
       "\n",
       "    .dataframe tbody tr th {\n",
       "        vertical-align: top;\n",
       "    }\n",
       "\n",
       "    .dataframe thead th {\n",
       "        text-align: right;\n",
       "    }\n",
       "</style>\n",
       "<table border=\"1\" class=\"dataframe\">\n",
       "  <thead>\n",
       "    <tr style=\"text-align: right;\">\n",
       "      <th></th>\n",
       "      <th>text</th>\n",
       "      <th>sentiment</th>\n",
       "      <th>coded_sentiment</th>\n",
       "    </tr>\n",
       "  </thead>\n",
       "  <tbody>\n",
       "    <tr>\n",
       "      <th>12784</th>\n",
       "      <td>food...food...FOOD!</td>\n",
       "      <td>neutral</td>\n",
       "      <td>1</td>\n",
       "    </tr>\n",
       "    <tr>\n",
       "      <th>6980</th>\n",
       "      <td>Why don`t adobe realise no one WANTS to pay fo...</td>\n",
       "      <td>neutral</td>\n",
       "      <td>1</td>\n",
       "    </tr>\n",
       "    <tr>\n",
       "      <th>20300</th>\n",
       "      <td>And these poor, unfortunate souls don`t appea...</td>\n",
       "      <td>negative</td>\n",
       "      <td>0</td>\n",
       "    </tr>\n",
       "    <tr>\n",
       "      <th>7396</th>\n",
       "      <td>sounds like my town</td>\n",
       "      <td>neutral</td>\n",
       "      <td>1</td>\n",
       "    </tr>\n",
       "    <tr>\n",
       "      <th>19554</th>\n",
       "      <td>Back in SJ. Star Trek tonight at 9:45pm at Cin...</td>\n",
       "      <td>neutral</td>\n",
       "      <td>1</td>\n",
       "    </tr>\n",
       "    <tr>\n",
       "      <th>...</th>\n",
       "      <td>...</td>\n",
       "      <td>...</td>\n",
       "      <td>...</td>\n",
       "    </tr>\n",
       "    <tr>\n",
       "      <th>11086</th>\n",
       "      <td>Come on guys tell me how much your theater cha...</td>\n",
       "      <td>neutral</td>\n",
       "      <td>1</td>\n",
       "    </tr>\n",
       "    <tr>\n",
       "      <th>4609</th>\n",
       "      <td>6789998212 haha love soulja boys new song</td>\n",
       "      <td>positive</td>\n",
       "      <td>2</td>\n",
       "    </tr>\n",
       "    <tr>\n",
       "      <th>26101</th>\n",
       "      <td>More than welcome...would love to do more phy...</td>\n",
       "      <td>neutral</td>\n",
       "      <td>1</td>\n",
       "    </tr>\n",
       "    <tr>\n",
       "      <th>26336</th>\n",
       "      <td>Is Charleston bound for the day</td>\n",
       "      <td>neutral</td>\n",
       "      <td>1</td>\n",
       "    </tr>\n",
       "    <tr>\n",
       "      <th>14117</th>\n",
       "      <td>yeah doesn`t that suck!  I am working with a ...</td>\n",
       "      <td>negative</td>\n",
       "      <td>0</td>\n",
       "    </tr>\n",
       "  </tbody>\n",
       "</table>\n",
       "<p>7781 rows × 3 columns</p>\n",
       "</div>"
      ],
      "text/plain": [
       "                                                    text sentiment  \\\n",
       "12784                                food...food...FOOD!   neutral   \n",
       "6980   Why don`t adobe realise no one WANTS to pay fo...   neutral   \n",
       "20300   And these poor, unfortunate souls don`t appea...  negative   \n",
       "7396                                 sounds like my town   neutral   \n",
       "19554  Back in SJ. Star Trek tonight at 9:45pm at Cin...   neutral   \n",
       "...                                                  ...       ...   \n",
       "11086  Come on guys tell me how much your theater cha...   neutral   \n",
       "4609           6789998212 haha love soulja boys new song  positive   \n",
       "26101   More than welcome...would love to do more phy...   neutral   \n",
       "26336                    Is Charleston bound for the day   neutral   \n",
       "14117   yeah doesn`t that suck!  I am working with a ...  negative   \n",
       "\n",
       "       coded_sentiment  \n",
       "12784                1  \n",
       "6980                 1  \n",
       "20300                0  \n",
       "7396                 1  \n",
       "19554                1  \n",
       "...                ...  \n",
       "11086                1  \n",
       "4609                 2  \n",
       "26101                1  \n",
       "26336                1  \n",
       "14117                0  \n",
       "\n",
       "[7781 rows x 3 columns]"
      ]
     },
     "execution_count": 23,
     "metadata": {},
     "output_type": "execute_result"
    }
   ],
   "source": [
    "# The combined dataset with equiprobable classes\n",
    "data = pd.concat([data_negative, data_positive, data_neutral]).sample(min)\n",
    "data"
   ]
  },
  {
   "cell_type": "markdown",
   "id": "b097baa0-f0e3-440a-a1c9-b885332a3ffd",
   "metadata": {},
   "source": [
    "## Visualizing the Data again"
   ]
  },
  {
   "cell_type": "code",
   "execution_count": 24,
   "id": "d6f5c492-47f9-4045-b4b6-8d06e17d7ee1",
   "metadata": {},
   "outputs": [
    {
     "name": "stdout",
     "output_type": "stream",
     "text": [
      "sentiment\n",
      "negative    2621\n",
      "neutral     2585\n",
      "positive    2575\n",
      "Name: text, dtype: int64\n"
     ]
    },
    {
     "data": {
      "image/png": "[encoded data removed]",
      "text/plain": [
       "<Figure size 640x480 with 1 Axes>"
      ]
     },
     "metadata": {},
     "output_type": "display_data"
    }
   ],
   "source": [
    "groups = data.groupby('sentiment').text.count()\n",
    "print(groups)\n",
    "groups.plot.bar(ylim=0)\n",
    "plt.show()"
   ]
  },
  {
   "cell_type": "markdown",
   "id": "7847900c-9f4f-41fc-b30f-7ce5137f6518",
   "metadata": {},
   "source": [
    "## Classes of Sentiments\n",
    "Here, 0 is negative, 1 is neutral and 2 is positive"
   ]
  },
  {
   "cell_type": "code",
   "execution_count": 25,
   "id": "e573e1d9-480c-4508-b8b3-e8ae2632aaf0",
   "metadata": {},
   "outputs": [],
   "source": [
    "classes = [\"negative\", \"neutral\", \"positive\"]"
   ]
  },
  {
   "cell_type": "markdown",
   "id": "f0925144-2d40-4f00-8154-e8903a9765a0",
   "metadata": {},
   "source": [
    "## Cleaning the Text Data"
   ]
  },
  {
   "cell_type": "code",
   "execution_count": 26,
   "id": "a270c1ad-6d2b-41e9-8a4f-a036a9a5a2dc",
   "metadata": {},
   "outputs": [],
   "source": [
    "def clean_data(entity, text_column_name=None, label_column_name=None):\n",
    "    lemma = WordNetLemmatizer()\n",
    "    stemmer = PorterStemmer()\n",
    "    stop_words = stopwords.words(\"english\")\n",
    "\n",
    "    if type(entity) == pd.pandas.core.frame.DataFrame:\n",
    "        data_frame = entity\n",
    "\n",
    "        # dealing with the text (tweets) column\n",
    "        text_ = text_column_name\n",
    "        data_frame[text_] = data_frame[text_].apply(\n",
    "            lambda statement: ' '.join(word.lower() for word in str(statement).split())\n",
    "        )  # making the words lowercase\n",
    "        data_frame[text_] = data_frame[text_].apply(\n",
    "            lambda statement: ' '.join(word for word in str(statement).split() if word not in stop_words)\n",
    "        )  # removing stopwords\n",
    "        data_frame[text_] = data_frame[text_].apply(\n",
    "            lambda statement: ' '.join(stemmer.stem(word) for word in str(statement).split())\n",
    "        )\n",
    "        data_frame[text_] = data_frame[text_].apply(\n",
    "            lambda statement: ' '.join(lemma.lemmatize(word=word) for word in str(statement).split())\n",
    "        )  # lemmatizing\n",
    "\n",
    "        # dealing with the label (sentiment) column\n",
    "        label_ = label_column_name\n",
    "        encoder = LabelEncoder()\n",
    "        data[label_] = encoder.fit_transform(data[label_])\n",
    "\n",
    "        return data_frame\n",
    "\n",
    "    elif type(entity) == list and text_column_name is None and label_column_name is None:\n",
    "        list_ = entity[0]\n",
    "        list_ = list(map(lambda statement: ' '.join(word.lower() for word in str(statement).split()), list_))  # making the words lowercase\n",
    "        list_ = list(map(lambda statement: ' '.join(word for word in str(statement).split() if word not in stop_words), list_))  # removing stopwords\n",
    "        list_ = list(map(lambda statement: ' '.join(stemmer.stem(word) for word in str(statement).split()), list_))\n",
    "        list_ = list(map(lambda statement: ' '.join(lemma.lemmatize(word=word) for word in str(statement).split()), list_)) # lemmatizing\n",
    "\n",
    "        return [list_]\n",
    "    else:\n",
    "        raise Exception('The supplied entity must be a list or a dataframe')\n"
   ]
  },
  {
   "cell_type": "markdown",
   "id": "be352a08-dc1f-4599-9eed-2475d9b90923",
   "metadata": {},
   "source": [
    "## Obtaining the correct training data"
   ]
  },
  {
   "cell_type": "code",
   "execution_count": 27,
   "id": "19b36f83-df7e-4784-8b67-af78481e9695",
   "metadata": {},
   "outputs": [],
   "source": [
    "cleaned_data = clean_data(data, text_column_name='text', label_column_name='sentiment')\n",
    "text = cleaned_data['text']\n",
    "label = cleaned_data['sentiment']"
   ]
  },
  {
   "cell_type": "markdown",
   "id": "cbfb6e15-f6c0-403d-acfc-1f856535b52e",
   "metadata": {},
   "source": [
    "## Splitting the Data into Train and Test Sets"
   ]
  },
  {
   "cell_type": "code",
   "execution_count": 28,
   "id": "fef4a78c-fe89-4dd7-ba48-bc05cf03c020",
   "metadata": {},
   "outputs": [],
   "source": [
    "train_text, test_text, train_label, test_label = train_test_split(text, label, test_size=20, random_state=123)"
   ]
  },
  {
   "cell_type": "markdown",
   "id": "b83ca351-1012-4bd4-9126-77212864fbfd",
   "metadata": {},
   "source": [
    "## Converting Text to Vector"
   ]
  },
  {
   "cell_type": "code",
   "execution_count": 29,
   "id": "fa674dcc-3a74-4eda-bc75-f29a8d13c881",
   "metadata": {},
   "outputs": [
    {
     "name": "stdout",
     "output_type": "stream",
     "text": [
      "  (0, 9932)\t0.363317940257939\n",
      "  (0, 9729)\t0.4198821783921516\n",
      "  (0, 9364)\t0.43633064538322386\n",
      "  (0, 6505)\t0.29668803555552153\n",
      "  (0, 4610)\t0.46058921779072265\n",
      "  (0, 3786)\t0.4484956861197053\n"
     ]
    }
   ],
   "source": [
    "vectorizer = TfidfVectorizer(analyzer='word', token_pattern=r'\\w{1,}', max_features=None)\n",
    "vectorizer.fit(train_text)\n",
    "train_data = vectorizer.transform(train_text)\n",
    "test_data = vectorizer.transform(test_text)\n",
    "\n",
    "# viewing the vector into which the train data was transofrmed\n",
    "print(train_data[0])"
   ]
  },
  {
   "cell_type": "markdown",
   "id": "4b44206b-f3e1-4bb6-9521-064733263576",
   "metadata": {},
   "source": [
    "## Some Text of Interest for which to Find Sentiments "
   ]
  },
  {
   "cell_type": "code",
   "execution_count": 30,
   "id": "8c23d583-50bb-43cf-9039-5126de3b146f",
   "metadata": {},
   "outputs": [],
   "source": [
    "# Non-Negative Statements\n",
    "t1 = [[\"i like what he is doing, he is doing great\"]]\n",
    "t2 = [[\"I gave birth to a set of twins today\"]]\n",
    "t3 = [[\"you are now changed for the better thank God!!!\"]]\n",
    "t4 = [[\"I am leaving for Lagos tomorrow. Come with me\"]]\n",
    "\n",
    "# Negative Statements\n",
    "n1 = [[\"We never loved him. We hated him instead he is an idiot\"]]\n",
    "n2 = [[\"Those foolish men took me for an idiot but I hated them much more than their craze!!!\"]]\n",
    "n3 = [[\"I will rather kill him, than have him for a friend.\"]]\n",
    "n4 = [[\"I know a film industry that failed because its\"\n",
    "        + \"films were full horrors and a lot of bloodshed, war and disaster - it a weak industry. \"]]\n",
    "\n",
    "# All statements put together in a list\n",
    "statements = [n1, n2, n3, n4, t1, t2, t3, t4]\n",
    "item_names = ['n1', 'n2', 'n3', 'n4', 't1', 't2', 't3', 't4']"
   ]
  },
  {
   "cell_type": "markdown",
   "id": "0dcd8b65-7240-40b2-a72b-23ec4894859c",
   "metadata": {},
   "source": [
    "## A Function for Printing the Results from Traditional ML "
   ]
  },
  {
   "cell_type": "code",
   "execution_count": 31,
   "id": "efd53122-243b-463b-aea4-5835bf6b0ea7",
   "metadata": {},
   "outputs": [],
   "source": [
    "def model_result(estimator, x_train, y_train, x_test, y_test, show_confusion_matrix=False):\n",
    "    \"\"\"\n",
    "    Fits the supplied model (estimator) using the train dataset and obtains the validation and test accuracies.\n",
    "    :param show_confusion_matrix: whether a confusion matrix should be displayed - it is displayed if True.\n",
    "    :param estimator: the estimator to be used to fit the model.\n",
    "    :param x_train: the train dataset containing only the features.\n",
    "    :param y_train: the train dataset containing only the labels.\n",
    "    :param x_test: the test dataset containing only the features\n",
    "    :param y_test: the test dataset containing only the labels.\n",
    "    :return: a dictionary containing the estimator, validation accuracy and test accuracy.\n",
    "    \"\"\"\n",
    "    estimator.fit(x_train, y_train)\n",
    "    validation_accuracy_ = cross_val_score(estimator, x_train, y_train, cv=5).mean().round(decimals=4)\n",
    "    test_accuracy_ = estimator.score(x_test, y_test)\n",
    "    predicted_y = estimator.predict(x_test)\n",
    "    confusion_matrix_ = np.int64(confusion_matrix(y_test, predicted_y))\n",
    "    pickle.dump(estimator, open('../../models/'+str(estimator)[0:8]+\".pickle\", 'wb'))\n",
    "\n",
    "    if show_confusion_matrix:\n",
    "        coded_sentiment_df = data[['sentiment', 'coded_sentiment']].drop_duplicates().sort_values('coded_sentiment')\n",
    "        # print(coded_sentiment)\n",
    "        cs_dict = dict(coded_sentiment_df.values)  # cs is short for coded_sentiment\n",
    "\n",
    "        sns.heatmap(confusion_matrix_,\n",
    "                    annot=True,\n",
    "                    fmt='d',\n",
    "                    cmap=\"spring\",\n",
    "                    xticklabels=coded_sentiment_df['sentiment'].values,\n",
    "                    yticklabels=coded_sentiment_df['sentiment'].values\n",
    "                    )\n",
    "        plt.xlabel('Predicted')\n",
    "        plt.ylabel('Actual')\n",
    "        plt.title('Confusion Matrix of predicted and Actual Classes')\n",
    "        plt.show()\n",
    "\n",
    "    print(confusion_matrix_)\n",
    "    return {'estimator': estimator,\n",
    "            'validation_accuracy': validation_accuracy_,\n",
    "            'test_accuracy': test_accuracy_,\n",
    "            'confusion_matrix': confusion_matrix_}\n"
   ]
  },
  {
   "cell_type": "markdown",
   "id": "36f96ffd-c85b-4183-855e-b1b51f524943",
   "metadata": {},
   "source": [
    "## Naive Bayes"
   ]
  },
  {
   "cell_type": "markdown",
   "id": "2c869750-b90e-40d0-8092-fd8269b3cc47",
   "metadata": {},
   "source": [
    "## Searching for the Best Naive Bayes Model"
   ]
  },
  {
   "cell_type": "code",
   "execution_count": 32,
   "id": "e4852072-46d3-42b7-b1e3-d0a7a7b01538",
   "metadata": {},
   "outputs": [
    {
     "name": "stderr",
     "output_type": "stream",
     "text": [
      "/Users/user/PycharmProjects/textProcessing/venv/lib/python3.10/site-packages/sklearn/naive_bayes.py:903: RuntimeWarning: divide by zero encountered in log\n",
      "  self.feature_log_prob_ = np.log(smoothed_fc) - np.log(\n",
      "/Users/user/PycharmProjects/textProcessing/venv/lib/python3.10/site-packages/sklearn/naive_bayes.py:903: RuntimeWarning: divide by zero encountered in log\n",
      "  self.feature_log_prob_ = np.log(smoothed_fc) - np.log(\n",
      "/Users/user/PycharmProjects/textProcessing/venv/lib/python3.10/site-packages/sklearn/naive_bayes.py:903: RuntimeWarning: divide by zero encountered in log\n",
      "  self.feature_log_prob_ = np.log(smoothed_fc) - np.log(\n",
      "/Users/user/PycharmProjects/textProcessing/venv/lib/python3.10/site-packages/sklearn/naive_bayes.py:903: RuntimeWarning: divide by zero encountered in log\n",
      "  self.feature_log_prob_ = np.log(smoothed_fc) - np.log(\n",
      "/Users/user/PycharmProjects/textProcessing/venv/lib/python3.10/site-packages/sklearn/naive_bayes.py:903: RuntimeWarning: divide by zero encountered in log\n",
      "  self.feature_log_prob_ = np.log(smoothed_fc) - np.log(\n"
     ]
    },
    {
     "name": "stdout",
     "output_type": "stream",
     "text": [
      "best_estimator = MultinomialNB(alpha=1, force_alpha=True)\n"
     ]
    }
   ],
   "source": [
    "nb_clf = MultinomialNB()\n",
    "param_grid = dict(alpha=[0, 0.4, 0.6, 0.8, 1], force_alpha=[True])\n",
    "grid_search = GridSearchCV(nb_clf, param_grid=param_grid)\n",
    "grid_search.fit(train_data, train_label)\n",
    "best_estimator = grid_search.best_estimator_ \n",
    "print('best_estimator =', best_estimator)"
   ]
  },
  {
   "cell_type": "markdown",
   "id": "a99ea408-bc9a-4dc1-b3fc-5cc234038537",
   "metadata": {},
   "source": [
    "## The Best Naive Bayes Model"
   ]
  },
  {
   "cell_type": "code",
   "execution_count": 33,
   "id": "c9bdfef1-daea-44bf-92c4-f34eb5629b27",
   "metadata": {},
   "outputs": [
    {
     "name": "stdout",
     "output_type": "stream",
     "text": [
      "[[5 1 0]\n",
      " [3 4 1]\n",
      " [1 1 4]]\n"
     ]
    },
    {
     "data": {
      "text/plain": [
       "{'estimator': MultinomialNB(alpha=0.6, force_alpha=True),\n",
       " 'validation_accuracy': 0.6168,\n",
       " 'test_accuracy': 0.65,\n",
       " 'confusion_matrix': array([[5, 1, 0],\n",
       "        [3, 4, 1],\n",
       "        [1, 1, 4]])}"
      ]
     },
     "execution_count": 33,
     "metadata": {},
     "output_type": "execute_result"
    }
   ],
   "source": [
    "nb_clf = MultinomialNB(alpha=0.6, force_alpha=True)\n",
    "knn_result = model_result(nb_clf, train_data, train_label, test_data, test_label)\n",
    "knn_result"
   ]
  },
  {
   "cell_type": "markdown",
   "id": "a220b298-b74e-4d5d-8bc5-d5a9d653f0a7",
   "metadata": {},
   "source": [
    "## K-Nearest Neighbours Model"
   ]
  },
  {
   "cell_type": "markdown",
   "id": "4925efb8-5636-4789-b3d5-af2081fda9cf",
   "metadata": {},
   "source": [
    "### Searching for the Best K-Nearest Neighbours Model"
   ]
  },
  {
   "cell_type": "code",
   "execution_count": 34,
   "id": "c0d20b20-59f6-4b0d-8676-062fe915bab1",
   "metadata": {},
   "outputs": [
    {
     "name": "stdout",
     "output_type": "stream",
     "text": [
      "best_estimator = KNeighborsClassifier(n_neighbors=19)\n"
     ]
    }
   ],
   "source": [
    "knn_clf = KNeighborsClassifier()\n",
    "param_grid = {'n_neighbors': list(range(3, 20, 2))}\n",
    "grid_search = GridSearchCV(knn_clf, param_grid=param_grid)\n",
    "grid_search.fit(train_data, train_label)\n",
    "best_estimator = grid_search.best_estimator_\n",
    "print('best_estimator =', best_estimator)"
   ]
  },
  {
   "cell_type": "markdown",
   "id": "618d53c6-f25f-425f-976c-80c11436f6a1",
   "metadata": {},
   "source": [
    "### The Best K-Nearest Neighbours Model"
   ]
  },
  {
   "cell_type": "code",
   "execution_count": 36,
   "id": "4bbe3f1d-963c-4da9-ab51-bc7da718516d",
   "metadata": {},
   "outputs": [
    {
     "data": {
      "image/png": "[encoded data removed]",
      "text/plain": [
       "<Figure size 640x480 with 2 Axes>"
      ]
     },
     "metadata": {},
     "output_type": "display_data"
    },
    {
     "name": "stdout",
     "output_type": "stream",
     "text": [
      "[[0 6 0]\n",
      " [0 8 0]\n",
      " [1 4 1]]\n",
      "{'estimator': KNeighborsClassifier(n_neighbors=3), 'validation_accuracy': 0.3734, 'test_accuracy': 0.45, 'confusion_matrix': array([[0, 6, 0],\n",
      "       [0, 8, 0],\n",
      "       [1, 4, 1]])}\n"
     ]
    }
   ],
   "source": [
    "knn_clf = KNeighborsClassifier(n_neighbors=3)\n",
    "knn_result = model_result(knn_clf, train_data, train_label, test_data, test_label, show_confusion_matrix=True)\n",
    "print(knn_result)"
   ]
  },
  {
   "cell_type": "markdown",
   "id": "536cf4ed-ff01-4bd7-adbc-ec0204aed8d5",
   "metadata": {},
   "source": [
    "## Decision Tree"
   ]
  },
  {
   "cell_type": "markdown",
   "id": "9ca24a2a-fe79-4444-af24-cdce29a16a0e",
   "metadata": {},
   "source": [
    "### Searching for the Best Decision Tree Model"
   ]
  },
  {
   "cell_type": "code",
   "execution_count": 37,
   "id": "80b46518-6653-45ec-97ab-686cbc532831",
   "metadata": {},
   "outputs": [
    {
     "name": "stdout",
     "output_type": "stream",
     "text": [
      "best_estimator = DecisionTreeClassifier(criterion='log_loss', max_depth=200, max_leaf_nodes=50,\n",
      "                       min_samples_leaf=50, min_samples_split=50)\n"
     ]
    }
   ],
   "source": [
    "dt_clf = DecisionTreeClassifier()\n",
    "param_grid = {\n",
    "    'criterion': ['gini', 'log_loss'],\n",
    "    'max_depth': [200],\n",
    "    'min_samples_split': [50],\n",
    "    'min_samples_leaf': [50],\n",
    "    'max_leaf_nodes': [50],\n",
    "}  \n",
    "grid_search = GridSearchCV(dt_clf, param_grid=param_grid)\n",
    "grid_search.fit(train_data, train_label)\n",
    "best_estimator = grid_search.best_estimator_\n",
    "print('best_estimator =', grid_search.best_estimator_)"
   ]
  },
  {
   "cell_type": "markdown",
   "id": "429afd73-15fc-484b-97a5-6de5b0c855f7",
   "metadata": {},
   "source": [
    "### The Best Decision Tree Model"
   ]
  },
  {
   "cell_type": "code",
   "execution_count": 38,
   "id": "46733e1b-520c-4c02-89eb-3aa162354324",
   "metadata": {},
   "outputs": [
    {
     "data": {
      "image/png": "[encoded data removed]",
      "text/plain": [
       "<Figure size 640x480 with 2 Axes>"
      ]
     },
     "metadata": {},
     "output_type": "display_data"
    },
    {
     "name": "stdout",
     "output_type": "stream",
     "text": [
      "[[3 3 0]\n",
      " [3 5 0]\n",
      " [1 2 3]]\n",
      "{'estimator': DecisionTreeClassifier(criterion='log_loss', max_depth=200, max_leaf_nodes=50,\n",
      "                       min_samples_leaf=50, min_samples_split=50,\n",
      "                       random_state=123), 'validation_accuracy': 0.5602, 'test_accuracy': 0.55, 'confusion_matrix': array([[3, 3, 0],\n",
      "       [3, 5, 0],\n",
      "       [1, 2, 3]])}\n"
     ]
    }
   ],
   "source": [
    "dt_clf = DecisionTreeClassifier(\n",
    "    criterion='log_loss',\n",
    "    max_depth=200,\n",
    "    min_samples_split=50,\n",
    "    min_samples_leaf=50,\n",
    "    max_leaf_nodes=50,\n",
    "    random_state=123\n",
    ")\n",
    "dt_result = model_result(dt_clf, train_data, train_label, test_data, test_label, show_confusion_matrix=True)\n",
    "print(dt_result)\n"
   ]
  },
  {
   "cell_type": "markdown",
   "id": "c9437d27-8fec-47a1-86a5-eeba225332c5",
   "metadata": {},
   "source": [
    "## Random Forest Model"
   ]
  },
  {
   "cell_type": "markdown",
   "id": "50a352b8-d3a5-4317-8bc1-c9bf9fe8be14",
   "metadata": {},
   "source": [
    "### Searching for the Best Random Forest Model"
   ]
  },
  {
   "cell_type": "code",
   "execution_count": 39,
   "id": "c097d661-78eb-4276-85c9-9fe584093b3f",
   "metadata": {},
   "outputs": [
    {
     "name": "stdout",
     "output_type": "stream",
     "text": [
      "best_estimator = RandomForestClassifier(criterion='log_loss', max_depth=400, max_leaf_nodes=20,\n",
      "                       min_samples_leaf=20, min_samples_split=20)\n"
     ]
    }
   ],
   "source": [
    "rf_clf = RandomForestClassifier()\n",
    "param_grid = {\n",
    "    'criterion': ['gini', 'log_loss'],\n",
    "    'max_depth': range(200, 500, 100),\n",
    "    'min_samples_split': [20],\n",
    "    'min_samples_leaf': [20],\n",
    "    'max_leaf_nodes': [20],\n",
    "}\n",
    "grid_search = GridSearchCV(rf_clf, param_grid=param_grid)\n",
    "rf_clf.fit(train_data, train_label)\n",
    "grid_search.fit(train_data, train_label)\n",
    "best_estimator = grid_search.best_estimator_\n",
    "print('best_estimator =', grid_search.best_estimator_)"
   ]
  },
  {
   "cell_type": "markdown",
   "id": "51a8670c-5d8e-42f5-a35b-092317ab2a7d",
   "metadata": {},
   "source": [
    "### The Best Random Forest Model"
   ]
  },
  {
   "cell_type": "code",
   "execution_count": 40,
   "id": "46a6abe6-3357-4075-9a4e-f21a4629c49c",
   "metadata": {},
   "outputs": [
    {
     "data": {
      "image/png": "[encoded data removed]",
      "text/plain": [
       "<Figure size 640x480 with 2 Axes>"
      ]
     },
     "metadata": {},
     "output_type": "display_data"
    },
    {
     "name": "stdout",
     "output_type": "stream",
     "text": [
      "[[5 1 0]\n",
      " [4 3 1]\n",
      " [4 0 2]]\n",
      "{'estimator': RandomForestClassifier(max_depth=200, max_leaf_nodes=50, min_samples_leaf=50,\n",
      "                       min_samples_split=50, random_state=123), 'validation_accuracy': 0.4898, 'test_accuracy': 0.5, 'confusion_matrix': array([[5, 1, 0],\n",
      "       [4, 3, 1],\n",
      "       [4, 0, 2]])}\n"
     ]
    }
   ],
   "source": [
    "rf_clf = RandomForestClassifier(\n",
    "    criterion='gini',\n",
    "    max_depth=200,\n",
    "    min_samples_split=50,\n",
    "    min_samples_leaf=50,\n",
    "    max_leaf_nodes=50,\n",
    "    random_state=123\n",
    ")\n",
    "rf_result = model_result(rf_clf, train_data, train_label, test_data, test_label, show_confusion_matrix=True)\n",
    "print(rf_result)"
   ]
  },
  {
   "cell_type": "markdown",
   "id": "326b9ea5-a79d-44e5-bfa4-2825c6c135ac",
   "metadata": {},
   "source": [
    "## Neural Network"
   ]
  },
  {
   "cell_type": "markdown",
   "id": "3e14a695-30e5-4d58-9ec3-a75d52634d5d",
   "metadata": {},
   "source": [
    "### Some Constants"
   ]
  },
  {
   "cell_type": "code",
   "execution_count": 41,
   "id": "88ae711a-2cb1-4bfb-917e-423e4a63e1f5",
   "metadata": {},
   "outputs": [],
   "source": [
    "vocab_size = 80000\n",
    "max_len = 250"
   ]
  },
  {
   "cell_type": "markdown",
   "id": "63ffd0c8-13b7-4aea-a51e-275e8fad7be5",
   "metadata": {},
   "source": [
    "### Putting all the Rows of the Column _text_ into a List"
   ]
  },
  {
   "cell_type": "code",
   "execution_count": 42,
   "id": "f7d48c8d-ec81-47f5-a59e-fe3d3a3be694",
   "metadata": {},
   "outputs": [
    {
     "name": "stdout",
     "output_type": "stream",
     "text": [
      "len_text 369050\n"
     ]
    }
   ],
   "source": [
    "text = \" \".join(x for x in train_text)\n",
    "print(\"len_text\", len(text))"
   ]
  },
  {
   "cell_type": "markdown",
   "id": "6a340ef4-483f-46d3-a488-77c0eebc3040",
   "metadata": {},
   "source": [
    "### The Layer that Converts the Words to Integers and Builds the Vocabulary"
   ]
  },
  {
   "cell_type": "code",
   "execution_count": 44,
   "id": "bf064fcf-c4be-47b6-9b7c-b958c6771a65",
   "metadata": {},
   "outputs": [],
   "source": [
    "vectorize_layer = TextVectorization(\n",
    "    max_tokens=vocab_size,\n",
    "    output_mode='int',\n",
    "    output_sequence_length=max_len\n",
    ")\n",
    "\n",
    "# learning from the original text, in order to convert each word to an integer\n",
    "vectorize_layer.adapt([train_text])\n",
    "\n",
    "# converter will be used to convert text to a vector of integers\n",
    "converter = Sequential()\n",
    "converter.add(vectorize_layer)"
   ]
  },
  {
   "cell_type": "markdown",
   "id": "d11a3a8a-499a-404c-8d97-3c73eefee41d",
   "metadata": {},
   "source": [
    "### To Convert Trained Data to Integers for Use in Building the Model"
   ]
  },
  {
   "cell_type": "code",
   "execution_count": 45,
   "id": "0420267d-eef5-4e5a-adc4-e3c8847dae91",
   "metadata": {
    "scrolled": true
   },
   "outputs": [
    {
     "name": "stdout",
     "output_type": "stream",
     "text": [
      "243/243 [==============================] - 1s 2ms/step\n",
      "1/1 [==============================] - 0s 22ms/step\n",
      "would\n",
      "[10195   194   171   630  7418     5  1966  5551  2291  4398   302   456\n",
      "     0     0     0     0     0     0     0     0     0     0     0     0\n",
      "     0     0     0     0     0     0     0     0     0     0     0     0\n",
      "     0     0     0     0     0     0     0     0     0     0     0     0\n",
      "     0     0     0     0     0     0     0     0     0     0     0     0\n",
      "     0     0     0     0     0     0     0     0     0     0     0     0\n",
      "     0     0     0     0     0     0     0     0     0     0     0     0\n",
      "     0     0     0     0     0     0     0     0     0     0     0     0\n",
      "     0     0     0     0     0     0     0     0     0     0     0     0\n",
      "     0     0     0     0     0     0     0     0     0     0     0     0\n",
      "     0     0     0     0     0     0     0     0     0     0     0     0\n",
      "     0     0     0     0     0     0     0     0     0     0     0     0\n",
      "     0     0     0     0     0     0     0     0     0     0     0     0\n",
      "     0     0     0     0     0     0     0     0     0     0     0     0\n",
      "     0     0     0     0     0     0     0     0     0     0     0     0\n",
      "     0     0     0     0     0     0     0     0     0     0     0     0\n",
      "     0     0     0     0     0     0     0     0     0     0     0     0\n",
      "     0     0     0     0     0     0     0     0     0     0     0     0\n",
      "     0     0     0     0     0     0     0     0     0     0     0     0\n",
      "     0     0     0     0     0     0     0     0     0     0     0     0\n",
      "     0     0     0     0     0     0     0     0     0     0]\n"
     ]
    }
   ],
   "source": [
    "train_data = converter.predict(train_text)  # The train_text is then converted to integer\n",
    "test_data = converter.predict(test_text)  # The test_text is then converted to integer\n",
    "# print(\"train_tensor\", train_data[1])\n",
    "vocab = vectorize_layer.get_vocabulary()\n",
    "print(vocab[50])\n",
    "print(train_data[300])"
   ]
  },
  {
   "cell_type": "markdown",
   "id": "e32c7e98-5057-4829-8ec7-4f37bd2e8ee5",
   "metadata": {},
   "source": [
    "### Testing the Converter"
   ]
  },
  {
   "cell_type": "code",
   "execution_count": 46,
   "id": "ad6ad786-ba01-43c0-af7a-888b2b21eeaf",
   "metadata": {},
   "outputs": [
    {
     "name": "stdout",
     "output_type": "stream",
     "text": [
      "1/1 [==============================] - 0s 107ms/step\n",
      "text [[10 61 10  0  0  0  0  0  0  0  0  0  0  0  0  0  0  0  0  0  0  0  0  0\n",
      "   0  0  0  0  0  0  0  0  0  0  0  0  0  0  0  0  0  0  0  0  0  0  0  0\n",
      "   0  0  0  0  0  0  0  0  0  0  0  0  0  0  0  0  0  0  0  0  0  0  0  0\n",
      "   0  0  0  0  0  0  0  0  0  0  0  0  0  0  0  0  0  0  0  0  0  0  0  0\n",
      "   0  0  0  0  0  0  0  0  0  0  0  0  0  0  0  0  0  0  0  0  0  0  0  0\n",
      "   0  0  0  0  0  0  0  0  0  0  0  0  0  0  0  0  0  0  0  0  0  0  0  0\n",
      "   0  0  0  0  0  0  0  0  0  0  0  0  0  0  0  0  0  0  0  0  0  0  0  0\n",
      "   0  0  0  0  0  0  0  0  0  0  0  0  0  0  0  0  0  0  0  0  0  0  0  0\n",
      "   0  0  0  0  0  0  0  0  0  0  0  0  0  0  0  0  0  0  0  0  0  0  0  0\n",
      "   0  0  0  0  0  0  0  0  0  0  0  0  0  0  0  0  0  0  0  0  0  0  0  0\n",
      "   0  0  0  0  0  0  0  0  0  0]]\n"
     ]
    }
   ],
   "source": [
    "test = converter.predict(clean_data([[\"I like this this this thing, like\"]]))\n",
    "print(\"text\", test)"
   ]
  },
  {
   "cell_type": "markdown",
   "id": "cd19cb8f-691f-41b0-ac8b-ae361d614cf5",
   "metadata": {},
   "source": [
    "### Building the Model\n",
    "Two types of neural network models will be used, viz. the Convolutional Neural Network and the Recurrrent Neural Network. The early stop technique will be used for both types of network to prevent overfitting."
   ]
  },
  {
   "cell_type": "code",
   "execution_count": 91,
   "id": "d6a7fda0-777c-45d4-868d-037e82ae705d",
   "metadata": {},
   "outputs": [],
   "source": [
    "def create_model(x_train, y_train, model_type='cnn'):\n",
    "    model_ = Sequential()\n",
    "    if model_type == 'cnn':\n",
    "        model_ = Sequential([\n",
    "            Embedding(input_dim=vocab_size, output_dim=200),\n",
    "            GlobalAveragePooling1D(),\n",
    "            Dense(units=100, activation='relu'),\n",
    "            Dense(units=3, activation=\"softmax\")\n",
    "        ])\n",
    "        # model_.summary()\n",
    "        early_stopping = EarlyStopping(monitor='val_accuracy', patience=2)\n",
    "        model_.compile(loss=\"sparse_categorical_crossentropy\", optimizer='adam', metrics=[\"accuracy\"])\n",
    "        model_.fit(x_train, y_train, epochs=10, batch_size=20, validation_split=0.2, shuffle=True, callbacks=[early_stopping])\n",
    "\n",
    "        # saving the model\n",
    "        model_.save('../../models/cnn_model.keras')\n",
    "        \n",
    "        return model_\n",
    "\n",
    "    elif model_type == 'rnn':\n",
    "        model_ = Sequential([\n",
    "            Embedding(input_dim=vocab_size, output_dim=200),\n",
    "            Bidirectional(LSTM(200, return_sequences=False)),\n",
    "            Dense(units=100, activation='relu'),\n",
    "            Dense(units=3, activation=\"softmax\")\n",
    "        ])\n",
    "    \n",
    "        # model_.summary()\n",
    "        early_stopping = EarlyStopping(monitor='val_accuracy', patience=1)\n",
    "        model_.compile(loss=\"sparse_categorical_crossentropy\", optimizer='adam', metrics=[\"accuracy\"])\n",
    "        model_.fit(x_train, y_train, epochs=10, batch_size=200, validation_split=0.2, shuffle=True, callbacks=[early_stopping])\n",
    "    \n",
    "        # saving the model\n",
    "        model_.save('../../models/rnn_model.keras')\n",
    "\n",
    "        return model_\n",
    "\n",
    "    else:\n",
    "        raise Exception(\"model_type can only take a value of ['cnn', 'rnn']\")\n",
    "\n",
    "    \n"
   ]
  },
  {
   "cell_type": "markdown",
   "id": "1bb239ba-781a-4013-9b0e-f87261fd4ef2",
   "metadata": {},
   "source": [
    "### Evaluating the Neural Network Model"
   ]
  },
  {
   "cell_type": "code",
   "execution_count": 82,
   "id": "d40f34ab-31a1-419f-9aa6-c3ed06852c38",
   "metadata": {},
   "outputs": [],
   "source": [
    "\n",
    "def dp_model_result(f_model, x_test, y_test, show_confusion_matrix=False):\n",
    "    \"\"\" Computes the test accuracy, and confusion matrix for an already fitted deep learning model.\n",
    "    :param f_model: an already fitted neural network model.\n",
    "    :param x_test: the test dataset containing only the feature(s).\n",
    "    :param y_test: the test dataset containing only the labels.\n",
    "    :return: a dictionary of the estimator, test accuracy and confusion matrix.\n",
    "    \"\"\"\n",
    "    test_accuracy = np.array(f_model.evaluate(x_test, y_test)).round(decimals=4)\n",
    "    predicted_probabilities = f_model.predict(x_test)\n",
    "    predictions = []\n",
    "\n",
    "    for probability in predicted_probabilities:\n",
    "        predictions.append(np.argmax(probability))\n",
    "\n",
    "    predicted_y = np.array(predictions)\n",
    "    confusion_matrix_ = confusion_matrix(y_test, predicted_y)\n",
    "    \n",
    "    if show_confusion_matrix:\n",
    "        coded_sentiment_df = data[['sentiment', 'coded_sentiment']].drop_duplicates().sort_values('coded_sentiment')\n",
    "        # print(coded_sentiment)\n",
    "        cs_dict = dict(coded_sentiment_df.values)  # cs is short for coded_sentiment\n",
    "    \n",
    "        sns.heatmap(confusion_matrix_,\n",
    "                    annot=True,\n",
    "                    fmt='d',\n",
    "                    cmap=\"spring\",\n",
    "                    xticklabels=coded_sentiment_df['sentiment'].values,\n",
    "                    yticklabels=coded_sentiment_df['sentiment'].values\n",
    "                    )\n",
    "        plt.xlabel('Predicted')\n",
    "        plt.ylabel('Actual')\n",
    "        plt.title('Confusion Matrix of predicted and Actual Classes')\n",
    "        plt.show()\n",
    "    \n",
    "    return {'test_accuracy': test_accuracy, 'confusion_matrix': confusion_matrix_}\n"
   ]
  },
  {
   "cell_type": "markdown",
   "id": "5b95b0e0-e3ea-4659-a881-517e61b38634",
   "metadata": {},
   "source": [
    "## Convolution Neural Network (CNN)"
   ]
  },
  {
   "cell_type": "code",
   "execution_count": 83,
   "id": "62f1ee44-b0be-4bd1-8514-9bb19ed8e546",
   "metadata": {},
   "outputs": [
    {
     "name": "stdout",
     "output_type": "stream",
     "text": [
      "Epoch 1/10\n",
      "311/311 [==============================] - 61s 192ms/step - loss: 1.0989 - accuracy: 0.3447 - val_loss: 1.0985 - val_accuracy: 0.3278\n",
      "Epoch 2/10\n",
      "311/311 [==============================] - 60s 192ms/step - loss: 1.0968 - accuracy: 0.3571 - val_loss: 1.0941 - val_accuracy: 0.3419\n",
      "Epoch 3/10\n",
      "311/311 [==============================] - 65s 209ms/step - loss: 1.0597 - accuracy: 0.4396 - val_loss: 1.0010 - val_accuracy: 0.5744\n",
      "Epoch 4/10\n",
      "311/311 [==============================] - 78s 251ms/step - loss: 0.8594 - accuracy: 0.6071 - val_loss: 0.8857 - val_accuracy: 0.5589\n",
      "Epoch 5/10\n",
      "311/311 [==============================] - 65s 209ms/step - loss: 0.7156 - accuracy: 0.6904 - val_loss: 0.9193 - val_accuracy: 0.5924\n",
      "Epoch 6/10\n",
      "311/311 [==============================] - 71s 230ms/step - loss: 0.6277 - accuracy: 0.7532 - val_loss: 0.8963 - val_accuracy: 0.6188\n",
      "Epoch 7/10\n",
      "311/311 [==============================] - 67s 214ms/step - loss: 0.5550 - accuracy: 0.7856 - val_loss: 0.8635 - val_accuracy: 0.6343\n",
      "Epoch 8/10\n",
      "311/311 [==============================] - 68s 217ms/step - loss: 0.4892 - accuracy: 0.8246 - val_loss: 0.8820 - val_accuracy: 0.6471\n",
      "Epoch 9/10\n",
      "311/311 [==============================] - 69s 221ms/step - loss: 0.4232 - accuracy: 0.8531 - val_loss: 0.8819 - val_accuracy: 0.6652\n",
      "Epoch 10/10\n",
      "311/311 [==============================] - 69s 221ms/step - loss: 0.3689 - accuracy: 0.8784 - val_loss: 0.9200 - val_accuracy: 0.6568\n"
     ]
    }
   ],
   "source": [
    "# executing create_model for cnn\n",
    "cnn_model = create_model(train_data, train_label)\n",
    "\n",
    "# Loading the saved Model\n",
    "cnn_model = keras.models.load_model('../../models/cnn_model.keras')"
   ]
  },
  {
   "cell_type": "markdown",
   "id": "6f894d00-a800-4b80-add0-da7477b46d05",
   "metadata": {},
   "source": [
    "### CNN Result"
   ]
  },
  {
   "cell_type": "code",
   "execution_count": 84,
   "id": "0b6904b7-4fda-4729-a1df-e9a02ef71c0d",
   "metadata": {},
   "outputs": [
    {
     "name": "stdout",
     "output_type": "stream",
     "text": [
      "1/1 [==============================] - 0s 309ms/step - loss: 0.4683 - accuracy: 0.7000\n",
      "1/1 [==============================] - 0s 66ms/step\n"
     ]
    },
    {
     "data": {
      "image/png": "[encoded data removed]",
      "text/plain": [
       "<Figure size 640x480 with 2 Axes>"
      ]
     },
     "metadata": {},
     "output_type": "display_data"
    },
    {
     "name": "stdout",
     "output_type": "stream",
     "text": [
      "{'test_accuracy': array([0.4683, 0.7   ]), 'confusion_matrix': array([[3, 3, 0],\n",
      "       [1, 7, 0],\n",
      "       [0, 2, 4]])}\n"
     ]
    }
   ],
   "source": [
    "cnn_result = dp_model_result(cnn_model, test_data, test_label, show_confusion_matrix=True)\n",
    "print(cnn_result)"
   ]
  },
  {
   "cell_type": "markdown",
   "id": "a780aebc-71ea-4023-b7ec-38d395969b72",
   "metadata": {},
   "source": [
    "### Making Prediction Using the CNN Model"
   ]
  },
  {
   "cell_type": "markdown",
   "id": "d8ea617f-f884-49b2-b0dc-b1c41fb10f0c",
   "metadata": {},
   "source": [
    "#### a. Break Down of Predictions\n",
    "Presenting a break down of how prediction works"
   ]
  },
  {
   "cell_type": "code",
   "execution_count": 85,
   "id": "ea8f6ec3-c5e8-48e7-9ae8-6929a8296fb0",
   "metadata": {},
   "outputs": [
    {
     "name": "stdout",
     "output_type": "stream",
     "text": [
      "the vector of integers for l = ['I am glad today i am now a millionaire.'] is as shown below:\n",
      "1/1 [==============================] - 0s 44ms/step\n",
      "[[218  13   1   0   0   0   0   0   0   0   0   0   0   0   0   0   0   0\n",
      "    0   0   0   0   0   0   0   0   0   0   0   0   0   0   0   0   0   0\n",
      "    0   0   0   0   0   0   0   0   0   0   0   0   0   0   0   0   0   0\n",
      "    0   0   0   0   0   0   0   0   0   0   0   0   0   0   0   0   0   0\n",
      "    0   0   0   0   0   0   0   0   0   0   0   0   0   0   0   0   0   0\n",
      "    0   0   0   0   0   0   0   0   0   0   0   0   0   0   0   0   0   0\n",
      "    0   0   0   0   0   0   0   0   0   0   0   0   0   0   0   0   0   0\n",
      "    0   0   0   0   0   0   0   0   0   0   0   0   0   0   0   0   0   0\n",
      "    0   0   0   0   0   0   0   0   0   0   0   0   0   0   0   0   0   0\n",
      "    0   0   0   0   0   0   0   0   0   0   0   0   0   0   0   0   0   0\n",
      "    0   0   0   0   0   0   0   0   0   0   0   0   0   0   0   0   0   0\n",
      "    0   0   0   0   0   0   0   0   0   0   0   0   0   0   0   0   0   0\n",
      "    0   0   0   0   0   0   0   0   0   0   0   0   0   0   0   0   0   0\n",
      "    0   0   0   0   0   0   0   0   0   0   0   0   0   0   0   0]]\n",
      "1/1 [==============================] - 0s 27ms/step\n",
      "the predicted probabilities of sentiment are: [[0.00568576 0.18186457 0.8124497 ]]\n",
      "the predicted class is: positive\n"
     ]
    }
   ],
   "source": [
    "l = [\"I am glad today i am now a millionaire.\"]\n",
    "clean_dat = clean_data([l])\n",
    "print('the vector of integers for l =', l, 'is as shown below:')\n",
    "\n",
    "converted_dat = converter.predict(clean_dat)\n",
    "print(converted_dat)\n",
    "\n",
    "test1 = cnn_model.predict(converted_dat)\n",
    "print('the predicted probabilities of sentiment are:', test1)\n",
    "print('the predicted class is:', classes[np.argmax(test1)])"
   ]
  },
  {
   "cell_type": "markdown",
   "id": "83d41de5-0936-43b5-b687-130e401047ac",
   "metadata": {},
   "source": [
    "#### b. Other Predictions\n",
    "Now other predictions to show what the model actually does to supplied text"
   ]
  },
  {
   "cell_type": "code",
   "execution_count": 86,
   "id": "8fe7bf15-ea16-45f0-ac14-b146b421a2e1",
   "metadata": {},
   "outputs": [
    {
     "name": "stdout",
     "output_type": "stream",
     "text": [
      "1/1 [==============================] - 0s 44ms/step\n",
      "1/1 [==============================] - 0s 22ms/step\n",
      "1/1 [==============================] - 0s 43ms/step\n",
      "1/1 [==============================] - 0s 21ms/step\n",
      "1/1 [==============================] - 0s 40ms/step\n",
      "1/1 [==============================] - 0s 23ms/step\n",
      "1/1 [==============================] - 0s 72ms/step\n",
      "1/1 [==============================] - 0s 29ms/step\n",
      "1/1 [==============================] - 0s 44ms/step\n",
      "1/1 [==============================] - 0s 22ms/step\n",
      "1/1 [==============================] - 0s 43ms/step\n",
      "1/1 [==============================] - 0s 23ms/step\n",
      "1/1 [==============================] - 0s 42ms/step\n",
      "1/1 [==============================] - 0s 21ms/step\n",
      "1/1 [==============================] - 0s 41ms/step\n",
      "1/1 [==============================] - 0s 26ms/step\n",
      "\n",
      "Prediction Results:\n",
      "n1 = ['We never loved him. We hated him instead he is an idiot'] is neutral\n",
      "n2 = ['Those foolish men took me for an idiot but I hated them much more than their craze!!!'] is negative\n",
      "n3 = ['I will rather kill him, than have him for a friend.'] is negative\n",
      "n4 = ['I know a film industry that failed because itsfilms were full horrors and a lot of bloodshed, war and disaster - it a weak industry. '] is negative\n",
      "t1 = ['i like what he is doing, he is doing great'] is positive\n",
      "t2 = ['I gave birth to a set of twins today'] is positive\n",
      "t3 = ['you are now changed for the better thank God!!!'] is positive\n",
      "t4 = ['I am leaving for Lagos tomorrow. Come with me'] is neutral\n"
     ]
    }
   ],
   "source": [
    "# converting the Non-negative Statements to Vectors of Integers\n",
    "t1_c = cnn_model.predict(converter.predict(clean_data(t1)))\n",
    "t2_c = cnn_model.predict(converter.predict(clean_data(t2)))\n",
    "t3_c = cnn_model.predict(converter.predict(clean_data(t3)))\n",
    "t4_c = cnn_model.predict(converter.predict(clean_data(t4)))\n",
    "\n",
    "# Converting the Negative Statements to Vectors of integers\n",
    "n1_c = cnn_model.predict(converter.predict(clean_data(n1)))\n",
    "n2_c = cnn_model.predict(converter.predict(clean_data(n2)))\n",
    "n3_c = cnn_model.predict(converter.predict(clean_data(n3)))\n",
    "n4_c = cnn_model.predict(converter.predict(clean_data(n4)))\n",
    "\n",
    "print('\\nPrediction Results:')\n",
    "i = 0\n",
    "for prob_array in [n1_c, n2_c, n3_c, n4_c, t1_c, t2_c, t3_c, t4_c]:\n",
    "    print(item_names[i], '=', statements[i][0], 'is', classes[np.argmax(prob_array)])\n",
    "    i += 1"
   ]
  },
  {
   "cell_type": "markdown",
   "id": "a8584dbc-9691-4df5-84e3-4c0f1dee5161",
   "metadata": {},
   "source": [
    "## Recurrent Neural Network (RNN)"
   ]
  },
  {
   "cell_type": "code",
   "execution_count": 92,
   "id": "077446ae-4e50-4271-8dd5-c202f7d3be89",
   "metadata": {},
   "outputs": [
    {
     "name": "stdout",
     "output_type": "stream",
     "text": [
      "Epoch 1/10\n",
      "32/32 [==============================] - 124s 4s/step - loss: 1.0561 - accuracy: 0.4393 - val_loss: 1.1001 - val_accuracy: 0.4346\n",
      "Epoch 2/10\n",
      "32/32 [==============================] - 4089s 132s/step - loss: 0.7634 - accuracy: 0.6603 - val_loss: 0.8481 - val_accuracy: 0.6072\n",
      "Epoch 3/10\n",
      "32/32 [==============================] - 120s 4s/step - loss: 0.5002 - accuracy: 0.8049 - val_loss: 0.9186 - val_accuracy: 0.6375\n",
      "Epoch 4/10\n",
      "32/32 [==============================] - 118s 4s/step - loss: 0.2974 - accuracy: 0.8971 - val_loss: 1.0881 - val_accuracy: 0.6233\n"
     ]
    }
   ],
   "source": [
    "# executing create_model for rnn\n",
    "model = create_model(train_data, train_label, model_type='rnn')\n",
    "\n",
    "# Loading the saved model\n",
    "rnn_model = keras.models.load_model('../../models/rnn_model.keras')"
   ]
  },
  {
   "cell_type": "markdown",
   "id": "a5dc019f-ef66-4cea-9a44-968d40a44b20",
   "metadata": {},
   "source": [
    "### RNN Result"
   ]
  },
  {
   "cell_type": "code",
   "execution_count": 88,
   "id": "756f62a2-d9a9-476a-b1f0-0e7e0ff8f65f",
   "metadata": {},
   "outputs": [
    {
     "name": "stdout",
     "output_type": "stream",
     "text": [
      "1/1 [==============================] - 0s 180ms/step - loss: 0.6789 - accuracy: 0.7000\n",
      "1/1 [==============================] - 1s 938ms/step\n"
     ]
    },
    {
     "data": {
      "image/png": "[encoded data removed]",
      "text/plain": [
       "<Figure size 640x480 with 2 Axes>"
      ]
     },
     "metadata": {},
     "output_type": "display_data"
    },
    {
     "name": "stdout",
     "output_type": "stream",
     "text": [
      "{'test_accuracy': array([0.6789, 0.7   ]), 'confusion_matrix': array([[3, 3, 0],\n",
      "       [1, 7, 0],\n",
      "       [0, 2, 4]])}\n"
     ]
    }
   ],
   "source": [
    "rnn_result = dp_model_result(model, test_data, test_label, show_confusion_matrix=True)\n",
    "print(rnn_result)"
   ]
  },
  {
   "cell_type": "markdown",
   "id": "218d0d31-d02f-44b2-9a41-e7e053fd01a6",
   "metadata": {},
   "source": [
    "### Making Prediction Using the RNN Model"
   ]
  },
  {
   "cell_type": "markdown",
   "id": "2f969edd-e3ad-4061-85c4-172bca74c5e1",
   "metadata": {},
   "source": [
    "#### a. Break Down of Predictions\n",
    "Presenting a break down of how prediction works"
   ]
  },
  {
   "cell_type": "code",
   "execution_count": 89,
   "id": "ed5d23e9-becf-4141-83be-c719e8f545d9",
   "metadata": {},
   "outputs": [
    {
     "name": "stdout",
     "output_type": "stream",
     "text": [
      "the vector of integers for l = ['I am glad today i am now a millionaire.'] is as shown below:\n",
      "1/1 [==============================] - 0s 45ms/step\n",
      "[[218  13   1   0   0   0   0   0   0   0   0   0   0   0   0   0   0   0\n",
      "    0   0   0   0   0   0   0   0   0   0   0   0   0   0   0   0   0   0\n",
      "    0   0   0   0   0   0   0   0   0   0   0   0   0   0   0   0   0   0\n",
      "    0   0   0   0   0   0   0   0   0   0   0   0   0   0   0   0   0   0\n",
      "    0   0   0   0   0   0   0   0   0   0   0   0   0   0   0   0   0   0\n",
      "    0   0   0   0   0   0   0   0   0   0   0   0   0   0   0   0   0   0\n",
      "    0   0   0   0   0   0   0   0   0   0   0   0   0   0   0   0   0   0\n",
      "    0   0   0   0   0   0   0   0   0   0   0   0   0   0   0   0   0   0\n",
      "    0   0   0   0   0   0   0   0   0   0   0   0   0   0   0   0   0   0\n",
      "    0   0   0   0   0   0   0   0   0   0   0   0   0   0   0   0   0   0\n",
      "    0   0   0   0   0   0   0   0   0   0   0   0   0   0   0   0   0   0\n",
      "    0   0   0   0   0   0   0   0   0   0   0   0   0   0   0   0   0   0\n",
      "    0   0   0   0   0   0   0   0   0   0   0   0   0   0   0   0   0   0\n",
      "    0   0   0   0   0   0   0   0   0   0   0   0   0   0   0   0]]\n",
      "1/1 [==============================] - 0s 54ms/step\n",
      "the predicted probabilities of sentiment are: [[0.00413783 0.20738626 0.78847593]]\n",
      "the predicted class is: positive\n"
     ]
    }
   ],
   "source": [
    "l = [\"I am glad today i am now a millionaire.\"]\n",
    "clean_dat = clean_data([l])\n",
    "print('the vector of integers for l =', l, 'is as shown below:')\n",
    "\n",
    "converted_dat = converter.predict(clean_dat)\n",
    "print(converted_dat)\n",
    "\n",
    "test1 = model.predict(converted_dat)\n",
    "print('the predicted probabilities of sentiment are:', test1)\n",
    "print('the predicted class is:', classes[np.argmax(test1)])"
   ]
  },
  {
   "cell_type": "markdown",
   "id": "bb38e30f-f7dc-4b7f-a478-1efe35ad9ba4",
   "metadata": {},
   "source": [
    "#### b. Other Predictions\n",
    "Now other predictions to show what the model actually does to supplied text"
   ]
  },
  {
   "cell_type": "code",
   "execution_count": 90,
   "id": "5a347128-4b22-4296-96e1-0feb0c4ab35c",
   "metadata": {
    "scrolled": true
   },
   "outputs": [
    {
     "name": "stdout",
     "output_type": "stream",
     "text": [
      "1/1 [==============================] - 0s 99ms/step\n",
      "1/1 [==============================] - 1s 846ms/step\n",
      "1/1 [==============================] - 0s 40ms/step\n",
      "1/1 [==============================] - 0s 68ms/step\n",
      "1/1 [==============================] - 0s 48ms/step\n",
      "1/1 [==============================] - 0s 65ms/step\n",
      "1/1 [==============================] - 0s 51ms/step\n",
      "1/1 [==============================] - 0s 58ms/step\n",
      "1/1 [==============================] - 0s 47ms/step\n",
      "1/1 [==============================] - 0s 65ms/step\n",
      "1/1 [==============================] - 0s 50ms/step\n",
      "1/1 [==============================] - 0s 69ms/step\n",
      "1/1 [==============================] - 0s 52ms/step\n",
      "1/1 [==============================] - 0s 73ms/step\n",
      "1/1 [==============================] - 0s 53ms/step\n",
      "1/1 [==============================] - 0s 64ms/step\n",
      "\n",
      "Prediction Results:\n",
      "n1 = ['We never loved him. We hated him instead he is an idiot'] is negative\n",
      "n2 = ['Those foolish men took me for an idiot but I hated them much more than their craze!!!'] is negative\n",
      "n3 = ['I will rather kill him, than have him for a friend.'] is negative\n",
      "n4 = ['I know a film industry that failed because itsfilms were full horrors and a lot of bloodshed, war and disaster - it a weak industry. '] is neutral\n",
      "t1 = ['i like what he is doing, he is doing great'] is positive\n",
      "t2 = ['I gave birth to a set of twins today'] is positive\n",
      "t3 = ['you are now changed for the better thank God!!!'] is positive\n",
      "t4 = ['I am leaving for Lagos tomorrow. Come with me'] is neutral\n"
     ]
    }
   ],
   "source": [
    "# converting the Non-negative Statements to Vectors of Integers\n",
    "t1_r = rnn_model.predict(converter.predict(clean_data(t1)))\n",
    "t2_r = rnn_model.predict(converter.predict(clean_data(t2)))\n",
    "t3_r = rnn_model.predict(converter.predict(clean_data(t3)))\n",
    "t4_r = rnn_model.predict(converter.predict(clean_data(t4)))\n",
    "\n",
    "# Converting the Negative Statements to Vectors of integers\n",
    "n1_r = rnn_model.predict(converter.predict(clean_data(n1)))\n",
    "n2_r = rnn_model.predict(converter.predict(clean_data(n2)))\n",
    "n3_r = rnn_model.predict(converter.predict(clean_data(n3)))\n",
    "n4_r = rnn_model.predict(converter.predict(clean_data(n4)))\n",
    "\n",
    "print('\\nPrediction Results:')\n",
    "i = 0\n",
    "for prob_array in [n1_r, n2_r, n3_r, n4_r, t1_r, t2_r, t3_r, t4_r]:\n",
    "    print(item_names[i], '=', statements[i][0], 'is', classes[np.argmax(prob_array)])\n",
    "    i += 1"
   ]
  },
  {
   "cell_type": "code",
   "execution_count": null,
   "id": "dd855f02-47d4-46ec-b31d-f84b4fe37f55",
   "metadata": {},
   "outputs": [],
   "source": []
  }
 ],
 "metadata": {
  "kernelspec": {
   "display_name": "Python 3 (ipykernel)",
   "language": "python",
   "name": "python3"
  },
  "language_info": {
   "codemirror_mode": {
    "name": "ipython",
    "version": 3
   },
   "file_extension": ".py",
   "mimetype": "text/x-python",
   "name": "python",
   "nbconvert_exporter": "python",
   "pygments_lexer": "ipython3",
   "version": "3.10.4"
  }
 },
 "nbformat": 4,
 "nbformat_minor": 5
}
